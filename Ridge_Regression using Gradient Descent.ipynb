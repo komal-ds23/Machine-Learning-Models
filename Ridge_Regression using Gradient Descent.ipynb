{
 "cells": [
  {
   "cell_type": "markdown",
   "id": "19ea8c1b",
   "metadata": {},
   "source": [
    "# Ridge Regression Using Gradient Descent"
   ]
  },
  {
   "cell_type": "markdown",
   "id": "524c4ca1",
   "metadata": {},
   "source": [
    "## Importing the necessary Libraries"
   ]
  },
  {
   "cell_type": "code",
   "execution_count": 1,
   "id": "7e343ecb",
   "metadata": {},
   "outputs": [],
   "source": [
    "import numpy as np\n",
    "import pandas as pd\n",
    "import matplotlib.pyplot as plt\n",
    "from sklearn.datasets import make_regression\n",
    "from sklearn.metrics import *"
   ]
  },
  {
   "cell_type": "markdown",
   "id": "bce4979c",
   "metadata": {},
   "source": [
    "__Generating the data using the class make_regression__"
   ]
  },
  {
   "cell_type": "code",
   "execution_count": 2,
   "id": "f750e3e9",
   "metadata": {},
   "outputs": [],
   "source": [
    "X, y = make_regression(n_samples = 100, n_features = 1, n_informative = 1, n_targets = 1,noise= 10,random_state = 100)"
   ]
  },
  {
   "cell_type": "code",
   "execution_count": 3,
   "id": "c0de29de",
   "metadata": {},
   "outputs": [
    {
     "data": {
      "image/png": "[encoded data removed]",
      "text/plain": [
       "<Figure size 432x288 with 1 Axes>"
      ]
     },
     "metadata": {
      "needs_background": "light"
     },
     "output_type": "display_data"
    }
   ],
   "source": [
    "plt.scatter(X, y);"
   ]
  },
  {
   "cell_type": "markdown",
   "id": "1bdca9d5",
   "metadata": {},
   "source": [
    "__Perform train test split__"
   ]
  },
  {
   "cell_type": "code",
   "execution_count": 4,
   "id": "b2710ddb",
   "metadata": {},
   "outputs": [],
   "source": [
    "from sklearn.model_selection import train_test_split\n",
    "\n",
    "X_train, X_test, y_train, y_test = train_test_split(X, y, test_size= 0.2, random_state= 100)"
   ]
  },
  {
   "cell_type": "markdown",
   "id": "7a024598",
   "metadata": {},
   "source": [
    "__Making our own RIDGE Regression Class__"
   ]
  },
  {
   "cell_type": "code",
   "execution_count": 5,
   "id": "6acb3ecf",
   "metadata": {},
   "outputs": [],
   "source": [
    "class Ridge_GD:\n",
    "    \n",
    "    def __init__(self,epochs,learning_rate,alpha):\n",
    "        \n",
    "        self.learning_rate = learning_rate\n",
    "        self.epochs = epochs\n",
    "        self.alpha = alpha\n",
    "        self.coef_ = None\n",
    "        self.intercept_ = None\n",
    "        \n",
    "    def fit(self,X_train,y_train):\n",
    "        \n",
    "        self.coef_ = np.ones(X_train.shape[1])\n",
    "        self.intercept_ = 0\n",
    "        thetha = np.insert(self.coef_,0,self.intercept_)\n",
    "        \n",
    "        X_train = np.insert(X_train,0,1,axis=1)\n",
    "        \n",
    "        for i in range(self.epochs):\n",
    "            thetha_der = np.dot(X_train.T,X_train).dot(thetha) - np.dot(X_train.T,y_train) + self.alpha*thetha\n",
    "            thetha = thetha - self.learning_rate*thetha_der\n",
    "        \n",
    "        self.coef_ = thetha[1:]\n",
    "        self.intercept_ = thetha[0]\n",
    "    \n",
    "    def predict(self,X_test):\n",
    "        \n",
    "        return np.dot(X_test,self.coef_) + self.intercept_"
   ]
  },
  {
   "cell_type": "code",
   "execution_count": 6,
   "id": "23c89368",
   "metadata": {},
   "outputs": [
    {
     "name": "stdout",
     "output_type": "stream",
     "text": [
      "R2 score :  0.8498856266811117\n",
      "coefficient :  [41.54805159]\n",
      "intercept :  0.661622278264284\n"
     ]
    }
   ],
   "source": [
    "reg = Ridge_GD(epochs=500,alpha=0.001,learning_rate=0.005)\n",
    "reg.fit(X_train,y_train)\n",
    "\n",
    "y_pred = reg.predict(X_test)\n",
    "print(\"R2 score : \",r2_score(y_test,y_pred))\n",
    "print(\"coefficient : \", reg.coef_)\n",
    "print(\"intercept : \",reg.intercept_)"
   ]
  },
  {
   "cell_type": "markdown",
   "id": "c7185328",
   "metadata": {},
   "source": [
    "## Sklearn Ridge Regression"
   ]
  },
  {
   "cell_type": "code",
   "execution_count": 7,
   "id": "5e70d463",
   "metadata": {},
   "outputs": [],
   "source": [
    "from sklearn.linear_model import Ridge"
   ]
  },
  {
   "cell_type": "code",
   "execution_count": 8,
   "id": "3d827640",
   "metadata": {},
   "outputs": [],
   "source": [
    "reg1 = Ridge(alpha=0.001, max_iter=500,solver='sparse_cg')"
   ]
  },
  {
   "cell_type": "code",
   "execution_count": 9,
   "id": "534720c5",
   "metadata": {},
   "outputs": [
    {
     "name": "stdout",
     "output_type": "stream",
     "text": [
      "R2 score :  0.8498856266811117\n",
      "coefficient :  [41.54805159]\n",
      "intercept :  0.661622278264284\n"
     ]
    }
   ],
   "source": [
    "reg1 = Ridge_GD(epochs=500,alpha=0.001,learning_rate=0.005)\n",
    "reg1.fit(X_train,y_train)\n",
    "\n",
    "y_pred = reg1.predict(X_test)\n",
    "print(\"R2 score : \",r2_score(y_test,y_pred))\n",
    "print(\"coefficient : \", reg1.coef_)\n",
    "print(\"intercept : \",reg1.intercept_)"
   ]
  },
  {
   "cell_type": "markdown",
   "id": "2135751f",
   "metadata": {},
   "source": [
    "### Conclusion :\n",
    "* The coefficient and intercept for both sklearn Ridge class and the class defined by our own are same.\n",
    "* Also, r2scores for both the classes are also equal.\n",
    "* Hence, we have developed our own Ridge Regression Class using Gradient Descent."
   ]
  },
  {
   "cell_type": "code",
   "execution_count": null,
   "id": "48e89a67",
   "metadata": {},
   "outputs": [],
   "source": []
  }
 ],
 "metadata": {
  "kernelspec": {
   "display_name": "Python 3 (ipykernel)",
   "language": "python",
   "name": "python3"
  },
  "language_info": {
   "codemirror_mode": {
    "name": "ipython",
    "version": 3
   },
   "file_extension": ".py",
   "mimetype": "text/x-python",
   "name": "python",
   "nbconvert_exporter": "python",
   "pygments_lexer": "ipython3",
   "version": "3.9.12"
  }
 },
 "nbformat": 4,
 "nbformat_minor": 5
}
