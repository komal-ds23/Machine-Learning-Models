{
 "cells": [
  {
   "cell_type": "markdown",
   "id": "ed178c92",
   "metadata": {},
   "source": [
    "# Simple Linear Regression Using Gradient Descent"
   ]
  },
  {
   "cell_type": "markdown",
   "id": "72ba57c9",
   "metadata": {},
   "source": [
    "## Importing the necessary Libraries"
   ]
  },
  {
   "cell_type": "code",
   "execution_count": 16,
   "id": "f68e4af6",
   "metadata": {},
   "outputs": [],
   "source": [
    "import numpy as np\n",
    "import pandas as pd\n",
    "import matplotlib.pyplot as plt\n",
    "from sklearn.datasets import make_regression\n",
    "from sklearn.metrics import *"
   ]
  },
  {
   "cell_type": "markdown",
   "id": "7a2dc444",
   "metadata": {},
   "source": [
    "__Generating the data using the class make_regression__"
   ]
  },
  {
   "cell_type": "code",
   "execution_count": 17,
   "id": "ab2ab8fc",
   "metadata": {},
   "outputs": [],
   "source": [
    "X, y = make_regression(n_samples = 200, n_features = 1, n_informative = 1, n_targets = 1,noise= 10,random_state = 100)"
   ]
  },
  {
   "cell_type": "code",
   "execution_count": 18,
   "id": "013daede",
   "metadata": {},
   "outputs": [
    {
     "data": {
      "image/png": "[encoded data removed]",
      "text/plain": [
       "<Figure size 432x288 with 1 Axes>"
      ]
     },
     "metadata": {
      "needs_background": "light"
     },
     "output_type": "display_data"
    }
   ],
   "source": [
    "plt.scatter(X, y);"
   ]
  },
  {
   "cell_type": "markdown",
   "id": "9f390357",
   "metadata": {},
   "source": [
    "__Perform train test split__"
   ]
  },
  {
   "cell_type": "code",
   "execution_count": 19,
   "id": "589f9706",
   "metadata": {},
   "outputs": [],
   "source": [
    "from sklearn.model_selection import train_test_split\n",
    "\n",
    "X_train, X_test, y_train, y_test = train_test_split(X, y, test_size= 0.2, random_state= 100)"
   ]
  },
  {
   "cell_type": "markdown",
   "id": "8b5b9baa",
   "metadata": {},
   "source": [
    "__Making our own Linear Regression Class__"
   ]
  },
  {
   "cell_type": "code",
   "execution_count": 20,
   "id": "7b0912c5",
   "metadata": {},
   "outputs": [],
   "source": [
    "class LR_GD:\n",
    "    \n",
    "    def __init__(GDR,learning_rate,epochs):\n",
    "        GDR.m = 100\n",
    "        GDR.b = -120\n",
    "        GDR.lr = learning_rate\n",
    "        GDR.epochs = epochs\n",
    "        \n",
    "    def fit(GDR, X, y):\n",
    "        # calcualte the b using GD\n",
    "        for i in range(GDR.epochs):\n",
    "            loss_slope_b = -2 * np.sum(y - GDR.m*X.ravel() - GDR.b)\n",
    "            loss_slope_m = -2 * np.sum((y - GDR.m*X.ravel() - GDR.b)*X.ravel())\n",
    "            \n",
    "            GDR.b = GDR.b - (GDR.lr * loss_slope_b)\n",
    "            GDR.m = GDR.m - (GDR.lr * loss_slope_m)\n",
    "        print(GDR.m)\n",
    "        print(GDR.b)\n",
    "        \n",
    "    def predict(GDR,X):\n",
    "        return GDR.m * X + GDR.b\n",
    "    "
   ]
  },
  {
   "cell_type": "code",
   "execution_count": 21,
   "id": "f983428e",
   "metadata": {},
   "outputs": [],
   "source": [
    "LR = LR_GD(0.001, 100)"
   ]
  },
  {
   "cell_type": "code",
   "execution_count": 22,
   "id": "e85ea376",
   "metadata": {},
   "outputs": [
    {
     "name": "stdout",
     "output_type": "stream",
     "text": [
      "19.164366972567574\n",
      "-0.6895013271319445\n"
     ]
    }
   ],
   "source": [
    "LR.fit(X_train, y_train)"
   ]
  },
  {
   "cell_type": "code",
   "execution_count": 23,
   "id": "4ad758ab",
   "metadata": {},
   "outputs": [],
   "source": [
    "y_pred_train = LR.predict(X_train)\n",
    "y_pred_test = LR.predict(X_test)"
   ]
  },
  {
   "cell_type": "code",
   "execution_count": 24,
   "id": "767e7fe0",
   "metadata": {},
   "outputs": [
    {
     "name": "stdout",
     "output_type": "stream",
     "text": [
      " The r2_score for train using gradient descent class : 0.7562983888152416\n",
      " The r2_score for test using gradient descent class : 0.8276353840143443\n"
     ]
    }
   ],
   "source": [
    "# calculate r2score\n",
    "\n",
    "print(\" The r2_score for train using gradient descent class :\", r2_score(y_train, y_pred_train))\n",
    "print(\" The r2_score for test using gradient descent class :\", r2_score(y_test, y_pred_test))"
   ]
  },
  {
   "cell_type": "code",
   "execution_count": null,
   "id": "10c4e66b",
   "metadata": {},
   "outputs": [],
   "source": []
  },
  {
   "cell_type": "markdown",
   "id": "51f122c8",
   "metadata": {},
   "source": [
    "### Check with sklearn LinearRegression class:"
   ]
  },
  {
   "cell_type": "code",
   "execution_count": 25,
   "id": "e58c53a1",
   "metadata": {},
   "outputs": [],
   "source": [
    "from sklearn.linear_model import LinearRegression"
   ]
  },
  {
   "cell_type": "code",
   "execution_count": 26,
   "id": "c05d415c",
   "metadata": {},
   "outputs": [
    {
     "data": {
      "text/plain": [
       "LinearRegression()"
      ]
     },
     "execution_count": 26,
     "metadata": {},
     "output_type": "execute_result"
    }
   ],
   "source": [
    "LR_1 = LinearRegression()\n",
    "\n",
    "LR_1.fit(X_train, y_train)"
   ]
  },
  {
   "cell_type": "code",
   "execution_count": 27,
   "id": "395e9ee5",
   "metadata": {},
   "outputs": [],
   "source": [
    "y_lr_train = LR_1.predict(X_train)\n",
    "y_lr_test = LR_1.predict(X_test)"
   ]
  },
  {
   "cell_type": "code",
   "execution_count": 28,
   "id": "326281b9",
   "metadata": {},
   "outputs": [
    {
     "name": "stdout",
     "output_type": "stream",
     "text": [
      " The r2_score for train using sklearn LR class : 0.7562983888152415\n",
      " The r2_score for test using sklearn LR class : 0.8276353840143439\n"
     ]
    }
   ],
   "source": [
    "# calculate r2score\n",
    "\n",
    "print(\" The r2_score for train using sklearn LR class :\", r2_score(y_train, y_lr_train))\n",
    "print(\" The r2_score for test using sklearn LR class :\", r2_score(y_test, y_lr_test))"
   ]
  },
  {
   "cell_type": "code",
   "execution_count": 29,
   "id": "1d7efed7",
   "metadata": {},
   "outputs": [
    {
     "name": "stdout",
     "output_type": "stream",
     "text": [
      "The coeffients are :  [19.16436697]\n",
      "The intercepts are :  -0.6895013271318624\n"
     ]
    }
   ],
   "source": [
    "print(\"The coeffients are : \", LR_1.coef_)\n",
    "print(\"The intercepts are : \", LR_1.intercept_)"
   ]
  },
  {
   "cell_type": "markdown",
   "id": "10f425b7",
   "metadata": {},
   "source": [
    "## Visualizing the Best Fit Line"
   ]
  },
  {
   "cell_type": "code",
   "execution_count": 30,
   "id": "5600aeb0",
   "metadata": {},
   "outputs": [
    {
     "data": {
      "image/png": "[encoded data removed]",
      "text/plain": [
       "<Figure size 720x288 with 1 Axes>"
      ]
     },
     "metadata": {
      "needs_background": "light"
     },
     "output_type": "display_data"
    }
   ],
   "source": [
    "plt.figure(figsize=(10,4))\n",
    "plt.scatter(X, y)\n",
    "plt.plot(X_train,LR.predict(X_train),color='red')\n",
    "plt.title(\"Best fit line for simple linear regression\",  fontweight = \"bold\", fontsize =14)\n",
    "plt.xlabel('Feature', fontweight = \"bold\", fontsize =12)\n",
    "plt.ylabel('Target' , fontweight = \"bold\", fontsize =12);"
   ]
  },
  {
   "cell_type": "markdown",
   "id": "e26ede1c",
   "metadata": {},
   "source": [
    "__The red line in the graph represents the best fit line.__"
   ]
  },
  {
   "cell_type": "markdown",
   "id": "14cee068",
   "metadata": {},
   "source": [
    "### Here, the r2_scores calculated using the class defined by our own and the sklearn Linear Regression class are same. \n",
    "### And, the coeffients and intercepts are also same. \n",
    "### Therefore, we have developed our own Linear Regression model using Gradient Descent."
   ]
  },
  {
   "cell_type": "code",
   "execution_count": null,
   "id": "d85cde0f",
   "metadata": {},
   "outputs": [],
   "source": []
  }
 ],
 "metadata": {
  "kernelspec": {
   "display_name": "Python 3 (ipykernel)",
   "language": "python",
   "name": "python3"
  },
  "language_info": {
   "codemirror_mode": {
    "name": "ipython",
    "version": 3
   },
   "file_extension": ".py",
   "mimetype": "text/x-python",
   "name": "python",
   "nbconvert_exporter": "python",
   "pygments_lexer": "ipython3",
   "version": "3.9.12"
  }
 },
 "nbformat": 4,
 "nbformat_minor": 5
}
