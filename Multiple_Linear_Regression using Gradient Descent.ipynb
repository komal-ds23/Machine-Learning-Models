{
 "cells": [
  {
   "cell_type": "markdown",
   "id": "ed178c92",
   "metadata": {},
   "source": [
    "# Multiple Linear Regression Using Gradient Descent"
   ]
  },
  {
   "cell_type": "markdown",
   "id": "72ba57c9",
   "metadata": {},
   "source": [
    "## Importing the necessary Libraries"
   ]
  },
  {
   "cell_type": "code",
   "execution_count": 1,
   "id": "f68e4af6",
   "metadata": {},
   "outputs": [],
   "source": [
    "import numpy as np\n",
    "import pandas as pd\n",
    "import matplotlib.pyplot as plt\n",
    "from sklearn.datasets import make_regression\n",
    "from sklearn.metrics import *"
   ]
  },
  {
   "cell_type": "markdown",
   "id": "7a2dc444",
   "metadata": {},
   "source": [
    "__Generating the data using the class make_regression__"
   ]
  },
  {
   "cell_type": "code",
   "execution_count": 2,
   "id": "ab2ab8fc",
   "metadata": {},
   "outputs": [],
   "source": [
    "X, y = make_regression(n_samples = 200, n_features = 10, n_informative = 10, n_targets = 1,noise= 25,random_state = 100)"
   ]
  },
  {
   "cell_type": "code",
   "execution_count": 3,
   "id": "793a4705",
   "metadata": {},
   "outputs": [],
   "source": [
    "df = pd.DataFrame({'feature1':X[:,0],'feature2':X[:,1], 'feature3':X[:,2],'feature4':X[:,3], 'feature5':X[:,4],'feature6':X[:,5], 'feature7':X[:,6],'feature8':X[:,7], 'feature9':X[:,8],'feature10':X[:,9],'target':y})"
   ]
  },
  {
   "cell_type": "code",
   "execution_count": 4,
   "id": "e4007ff6",
   "metadata": {},
   "outputs": [
    {
     "data": {
      "text/html": [
       "<div>\n",
       "<style scoped>\n",
       "    .dataframe tbody tr th:only-of-type {\n",
       "        vertical-align: middle;\n",
       "    }\n",
       "\n",
       "    .dataframe tbody tr th {\n",
       "        vertical-align: top;\n",
       "    }\n",
       "\n",
       "    .dataframe thead th {\n",
       "        text-align: right;\n",
       "    }\n",
       "</style>\n",
       "<table border=\"1\" class=\"dataframe\">\n",
       "  <thead>\n",
       "    <tr style=\"text-align: right;\">\n",
       "      <th></th>\n",
       "      <th>feature1</th>\n",
       "      <th>feature2</th>\n",
       "      <th>feature3</th>\n",
       "      <th>feature4</th>\n",
       "      <th>feature5</th>\n",
       "      <th>feature6</th>\n",
       "      <th>feature7</th>\n",
       "      <th>feature8</th>\n",
       "      <th>feature9</th>\n",
       "      <th>feature10</th>\n",
       "      <th>target</th>\n",
       "    </tr>\n",
       "  </thead>\n",
       "  <tbody>\n",
       "    <tr>\n",
       "      <th>0</th>\n",
       "      <td>-0.132077</td>\n",
       "      <td>-1.136673</td>\n",
       "      <td>-1.324578</td>\n",
       "      <td>0.248495</td>\n",
       "      <td>0.887672</td>\n",
       "      <td>0.350693</td>\n",
       "      <td>0.088650</td>\n",
       "      <td>-0.464843</td>\n",
       "      <td>1.196661</td>\n",
       "      <td>0.238385</td>\n",
       "      <td>-80.364087</td>\n",
       "    </tr>\n",
       "    <tr>\n",
       "      <th>1</th>\n",
       "      <td>1.766862</td>\n",
       "      <td>1.032654</td>\n",
       "      <td>0.135118</td>\n",
       "      <td>-0.786825</td>\n",
       "      <td>-0.210867</td>\n",
       "      <td>1.617742</td>\n",
       "      <td>-0.676915</td>\n",
       "      <td>-0.585737</td>\n",
       "      <td>1.099721</td>\n",
       "      <td>-0.164253</td>\n",
       "      <td>106.576641</td>\n",
       "    </tr>\n",
       "    <tr>\n",
       "      <th>2</th>\n",
       "      <td>-1.452641</td>\n",
       "      <td>-0.260513</td>\n",
       "      <td>1.014952</td>\n",
       "      <td>-1.327491</td>\n",
       "      <td>0.321444</td>\n",
       "      <td>0.037308</td>\n",
       "      <td>0.233519</td>\n",
       "      <td>-0.955216</td>\n",
       "      <td>0.276531</td>\n",
       "      <td>-1.365343</td>\n",
       "      <td>-248.220945</td>\n",
       "    </tr>\n",
       "    <tr>\n",
       "      <th>3</th>\n",
       "      <td>0.250698</td>\n",
       "      <td>-0.230036</td>\n",
       "      <td>0.209859</td>\n",
       "      <td>1.884706</td>\n",
       "      <td>-0.537219</td>\n",
       "      <td>-0.549812</td>\n",
       "      <td>-0.869957</td>\n",
       "      <td>-1.059500</td>\n",
       "      <td>0.764415</td>\n",
       "      <td>-0.651444</td>\n",
       "      <td>66.517693</td>\n",
       "    </tr>\n",
       "    <tr>\n",
       "      <th>4</th>\n",
       "      <td>1.328333</td>\n",
       "      <td>1.326345</td>\n",
       "      <td>-0.455968</td>\n",
       "      <td>0.927004</td>\n",
       "      <td>1.716503</td>\n",
       "      <td>0.213092</td>\n",
       "      <td>0.179124</td>\n",
       "      <td>-0.737989</td>\n",
       "      <td>0.681965</td>\n",
       "      <td>0.326692</td>\n",
       "      <td>223.111827</td>\n",
       "    </tr>\n",
       "  </tbody>\n",
       "</table>\n",
       "</div>"
      ],
      "text/plain": [
       "   feature1  feature2  feature3  feature4  feature5  feature6  feature7  \\\n",
       "0 -0.132077 -1.136673 -1.324578  0.248495  0.887672  0.350693  0.088650   \n",
       "1  1.766862  1.032654  0.135118 -0.786825 -0.210867  1.617742 -0.676915   \n",
       "2 -1.452641 -0.260513  1.014952 -1.327491  0.321444  0.037308  0.233519   \n",
       "3  0.250698 -0.230036  0.209859  1.884706 -0.537219 -0.549812 -0.869957   \n",
       "4  1.328333  1.326345 -0.455968  0.927004  1.716503  0.213092  0.179124   \n",
       "\n",
       "   feature8  feature9  feature10      target  \n",
       "0 -0.464843  1.196661   0.238385  -80.364087  \n",
       "1 -0.585737  1.099721  -0.164253  106.576641  \n",
       "2 -0.955216  0.276531  -1.365343 -248.220945  \n",
       "3 -1.059500  0.764415  -0.651444   66.517693  \n",
       "4 -0.737989  0.681965   0.326692  223.111827  "
      ]
     },
     "execution_count": 4,
     "metadata": {},
     "output_type": "execute_result"
    }
   ],
   "source": [
    "df.head()"
   ]
  },
  {
   "cell_type": "code",
   "execution_count": 5,
   "id": "72c6565c",
   "metadata": {},
   "outputs": [
    {
     "data": {
      "text/plain": [
       "(200, 11)"
      ]
     },
     "execution_count": 5,
     "metadata": {},
     "output_type": "execute_result"
    }
   ],
   "source": [
    "df.shape"
   ]
  },
  {
   "cell_type": "markdown",
   "id": "9f390357",
   "metadata": {},
   "source": [
    "__Perform train test split__"
   ]
  },
  {
   "cell_type": "code",
   "execution_count": 6,
   "id": "589f9706",
   "metadata": {},
   "outputs": [],
   "source": [
    "from sklearn.model_selection import train_test_split\n",
    "\n",
    "X_train, X_test, y_train, y_test = train_test_split(X, y, test_size= 0.2, random_state= 100)"
   ]
  },
  {
   "cell_type": "markdown",
   "id": "8b5b9baa",
   "metadata": {},
   "source": [
    "__Making our own Multiple Linear Regression Class__"
   ]
  },
  {
   "cell_type": "code",
   "execution_count": 7,
   "id": "c2f111d3",
   "metadata": {},
   "outputs": [],
   "source": [
    "class MLR_GD:\n",
    "    \n",
    "    def __init__(self,learning_rate,epochs):\n",
    "        self.coef_ = None\n",
    "        self.intercept_ = None\n",
    "        self.lr = learning_rate\n",
    "        self.epochs = epochs\n",
    "        \n",
    "    def fit(self,X_train,y_train):\n",
    "        \n",
    "        # initialize the coeffs\n",
    "        self.intercept_ = 0\n",
    "        self.coef_ = np.ones(X_train.shape[1])\n",
    "        \n",
    "        for i in range(self.epochs):\n",
    "            # update all the coeff and the intercept\n",
    "            y_hat = np.dot(X_train,self.coef_) + self.intercept_\n",
    "            \n",
    "            intercept_der = -2 * np.mean(y_train - y_hat)\n",
    "            \n",
    "            self.intercept_ = self.intercept_ - (self.lr * intercept_der)\n",
    "            \n",
    "            coef_der = -2 * np.dot((y_train - y_hat),X_train)/X_train.shape[0]\n",
    "            \n",
    "            self.coef_ = self.coef_ - (self.lr * coef_der)\n",
    "        \n",
    "        print(self.intercept_,self.coef_)\n",
    "    \n",
    "    def predict(self,X_test):\n",
    "        return np.dot(X_test,self.coef_) + self.intercept_"
   ]
  },
  {
   "cell_type": "code",
   "execution_count": 8,
   "id": "f983428e",
   "metadata": {},
   "outputs": [],
   "source": [
    "LR = MLR_GD(0.1, 100)"
   ]
  },
  {
   "cell_type": "code",
   "execution_count": 9,
   "id": "e85ea376",
   "metadata": {},
   "outputs": [
    {
     "name": "stdout",
     "output_type": "stream",
     "text": [
      "2.9604792145457073 [32.15266928 63.9051326  28.69037774 83.93381612  4.05014983 16.7591741\n",
      " 47.65357327 31.53126459 34.92348146 56.17799767]\n"
     ]
    }
   ],
   "source": [
    "LR.fit(X_train, y_train)"
   ]
  },
  {
   "cell_type": "code",
   "execution_count": 10,
   "id": "4ad758ab",
   "metadata": {},
   "outputs": [],
   "source": [
    "y_pred_train = LR.predict(X_train)\n",
    "y_pred_test = LR.predict(X_test)"
   ]
  },
  {
   "cell_type": "code",
   "execution_count": 11,
   "id": "767e7fe0",
   "metadata": {},
   "outputs": [
    {
     "name": "stdout",
     "output_type": "stream",
     "text": [
      " The r2_score for train using gradient descent class : 0.9739017582052395\n",
      " The r2_score for test using gradient descent class : 0.9765309720235408\n"
     ]
    }
   ],
   "source": [
    "# calculate r2score\n",
    "\n",
    "print(\" The r2_score for train using gradient descent class :\", r2_score(y_train, y_pred_train))\n",
    "print(\" The r2_score for test using gradient descent class :\", r2_score(y_test, y_pred_test))"
   ]
  },
  {
   "cell_type": "markdown",
   "id": "51f122c8",
   "metadata": {},
   "source": [
    "### Check with sklearn LinearRegression class:"
   ]
  },
  {
   "cell_type": "code",
   "execution_count": 12,
   "id": "e58c53a1",
   "metadata": {},
   "outputs": [],
   "source": [
    "from sklearn.linear_model import LinearRegression"
   ]
  },
  {
   "cell_type": "code",
   "execution_count": 13,
   "id": "c05d415c",
   "metadata": {},
   "outputs": [
    {
     "data": {
      "text/plain": [
       "LinearRegression()"
      ]
     },
     "execution_count": 13,
     "metadata": {},
     "output_type": "execute_result"
    }
   ],
   "source": [
    "LR_1 = LinearRegression()\n",
    "\n",
    "LR_1.fit(X_train, y_train)"
   ]
  },
  {
   "cell_type": "code",
   "execution_count": 14,
   "id": "395e9ee5",
   "metadata": {},
   "outputs": [],
   "source": [
    "y_lr_train = LR_1.predict(X_train)\n",
    "y_lr_test = LR_1.predict(X_test)"
   ]
  },
  {
   "cell_type": "code",
   "execution_count": 15,
   "id": "326281b9",
   "metadata": {},
   "outputs": [
    {
     "name": "stdout",
     "output_type": "stream",
     "text": [
      " The r2_score for train using sklearn LR class : 0.9739017582052437\n",
      " The r2_score for test using sklearn LR class : 0.976530973835057\n"
     ]
    }
   ],
   "source": [
    "# calculate r2score\n",
    "\n",
    "print(\" The r2_score for train using sklearn LR class :\", r2_score(y_train, y_lr_train))\n",
    "print(\" The r2_score for test using sklearn LR class :\", r2_score(y_test, y_lr_test))"
   ]
  },
  {
   "cell_type": "code",
   "execution_count": 16,
   "id": "1d7efed7",
   "metadata": {},
   "outputs": [
    {
     "name": "stdout",
     "output_type": "stream",
     "text": [
      "The coeffients are :  [32.15267284 63.90513705 28.69037263 83.93381161  4.05014808 16.75917305\n",
      " 47.65357388 31.53127035 34.9234832  56.1779989 ]\n",
      "The intercepts are :  2.9604853881139315\n"
     ]
    }
   ],
   "source": [
    "print(\"The coeffients are : \", LR_1.coef_)\n",
    "print(\"The intercepts are : \", LR_1.intercept_)"
   ]
  },
  {
   "cell_type": "markdown",
   "id": "14cee068",
   "metadata": {},
   "source": [
    "### Here, the r2_scores calculated using the class defined by our own and the sklearn Linear Regression class are same.\n",
    "### And, the coeffients and intercepts are also same.\n",
    "### Therefore, we have developed our own Multiple Linear Regression model using Gradient Descent."
   ]
  },
  {
   "cell_type": "code",
   "execution_count": null,
   "id": "8f386026",
   "metadata": {},
   "outputs": [],
   "source": []
  }
 ],
 "metadata": {
  "kernelspec": {
   "display_name": "Python 3 (ipykernel)",
   "language": "python",
   "name": "python3"
  },
  "language_info": {
   "codemirror_mode": {
    "name": "ipython",
    "version": 3
   },
   "file_extension": ".py",
   "mimetype": "text/x-python",
   "name": "python",
   "nbconvert_exporter": "python",
   "pygments_lexer": "ipython3",
   "version": "3.9.12"
  }
 },
 "nbformat": 4,
 "nbformat_minor": 5
}
