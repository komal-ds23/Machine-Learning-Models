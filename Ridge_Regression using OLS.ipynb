{
 "cells": [
  {
   "cell_type": "markdown",
   "id": "9613289b",
   "metadata": {},
   "source": [
    "# Ridge Regression Using OLS(Ordinary Least Square)"
   ]
  },
  {
   "cell_type": "markdown",
   "id": "524c4ca1",
   "metadata": {},
   "source": [
    "## Importing the necessary Libraries"
   ]
  },
  {
   "cell_type": "code",
   "execution_count": 1,
   "id": "7e343ecb",
   "metadata": {},
   "outputs": [],
   "source": [
    "import numpy as np\n",
    "import pandas as pd\n",
    "import matplotlib.pyplot as plt\n",
    "from sklearn.datasets import make_regression\n",
    "from sklearn.metrics import *"
   ]
  },
  {
   "cell_type": "markdown",
   "id": "bce4979c",
   "metadata": {},
   "source": [
    "__Generating the data using the class make_regression__"
   ]
  },
  {
   "cell_type": "code",
   "execution_count": 2,
   "id": "f750e3e9",
   "metadata": {},
   "outputs": [],
   "source": [
    "X, y = make_regression(n_samples = 100, n_features = 1, n_informative = 1, n_targets = 1,noise= 10,random_state = 100)"
   ]
  },
  {
   "cell_type": "code",
   "execution_count": 3,
   "id": "3982e04c",
   "metadata": {},
   "outputs": [
    {
     "data": {
      "image/png": "[encoded data removed]",
      "text/plain": [
       "<Figure size 432x288 with 1 Axes>"
      ]
     },
     "metadata": {
      "needs_background": "light"
     },
     "output_type": "display_data"
    }
   ],
   "source": [
    "plt.scatter(X, y);"
   ]
  },
  {
   "cell_type": "markdown",
   "id": "1bdca9d5",
   "metadata": {},
   "source": [
    "__Perform train test split__"
   ]
  },
  {
   "cell_type": "code",
   "execution_count": 4,
   "id": "b2710ddb",
   "metadata": {},
   "outputs": [],
   "source": [
    "from sklearn.model_selection import train_test_split\n",
    "\n",
    "X_train, X_test, y_train, y_test = train_test_split(X, y, test_size= 0.2, random_state= 100)"
   ]
  },
  {
   "cell_type": "markdown",
   "id": "7a024598",
   "metadata": {},
   "source": [
    "__Making our own RIDGE Regression Class__"
   ]
  },
  {
   "cell_type": "code",
   "execution_count": 5,
   "id": "389782f6",
   "metadata": {},
   "outputs": [],
   "source": [
    "class Ridge_Reg:\n",
    "    \n",
    "    def __init__(self,alpha=0.1):\n",
    "        self.alpha = alpha\n",
    "        self.m = None\n",
    "        self.b = None\n",
    "        \n",
    "    def fit(self,X_train,y_train):\n",
    "        \n",
    "        num = 0\n",
    "        den = 0\n",
    "        \n",
    "        for i in range(X_train.shape[0]):\n",
    "            num = num + (y_train[i] - y_train.mean())*(X_train[i] - X_train.mean())\n",
    "            den = den + (X_train[i] - X_train.mean())*(X_train[i] - X_train.mean())\n",
    "        \n",
    "        self.m = num/(den + self.alpha)\n",
    "        self.b = y_train.mean() - (self.m*X_train.mean())\n",
    "        print(self.m)\n",
    "        print(self.b)\n",
    "    \n",
    "    def predict(X_test):\n",
    "        pass"
   ]
  },
  {
   "cell_type": "code",
   "execution_count": 6,
   "id": "0fdbdfae",
   "metadata": {},
   "outputs": [
    {
     "name": "stdout",
     "output_type": "stream",
     "text": [
      "[40.63839271]\n",
      "[-0.28987902]\n"
     ]
    }
   ],
   "source": [
    "reg = Ridge_Reg(alpha=0)\n",
    "reg.fit(X,y)"
   ]
  },
  {
   "cell_type": "code",
   "execution_count": 7,
   "id": "6a87d853",
   "metadata": {},
   "outputs": [
    {
     "name": "stdout",
     "output_type": "stream",
     "text": [
      "[36.732432]\n",
      "[-0.69674676]\n"
     ]
    }
   ],
   "source": [
    "reg1 = Ridge_Reg(alpha=10)\n",
    "reg1.fit(X,y)"
   ]
  },
  {
   "cell_type": "code",
   "execution_count": 8,
   "id": "f93f83e5",
   "metadata": {},
   "outputs": [
    {
     "name": "stdout",
     "output_type": "stream",
     "text": [
      "[19.69530064]\n",
      "[-2.47143409]\n"
     ]
    }
   ],
   "source": [
    "reg2 = Ridge_Reg(alpha=100)\n",
    "reg2.fit(X,y)"
   ]
  },
  {
   "cell_type": "markdown",
   "id": "d9c438a2",
   "metadata": {},
   "source": [
    "## Sklearn Ridge Regression"
   ]
  },
  {
   "cell_type": "code",
   "execution_count": 9,
   "id": "694dff02",
   "metadata": {},
   "outputs": [],
   "source": [
    "from sklearn.linear_model import Ridge"
   ]
  },
  {
   "cell_type": "code",
   "execution_count": 10,
   "id": "f3b69448",
   "metadata": {},
   "outputs": [
    {
     "name": "stdout",
     "output_type": "stream",
     "text": [
      "[40.63839271]\n",
      "-0.28987902378331487\n",
      "\n",
      "Using Linear Regression:\n",
      "[40.63839271]\n",
      "-0.2898790237833184\n"
     ]
    }
   ],
   "source": [
    "rr1 = Ridge(alpha=0)\n",
    "rr1.fit(X,y)\n",
    "print(rr1.coef_)\n",
    "print(rr1.intercept_)\n",
    "\n",
    "from sklearn.linear_model import LinearRegression\n",
    "lr = LinearRegression()\n",
    "lr.fit(X,y)\n",
    "print(\"\\nUsing Linear Regression:\")\n",
    "print(lr.coef_)\n",
    "print(lr.intercept_)"
   ]
  },
  {
   "cell_type": "code",
   "execution_count": 11,
   "id": "9dbe3e20",
   "metadata": {},
   "outputs": [
    {
     "name": "stdout",
     "output_type": "stream",
     "text": [
      "[36.732432]\n",
      "-0.6967467566142678\n"
     ]
    }
   ],
   "source": [
    "rr2 = Ridge(alpha=10)\n",
    "rr2.fit(X,y)\n",
    "print(rr2.coef_)\n",
    "print(rr2.intercept_)"
   ]
  },
  {
   "cell_type": "code",
   "execution_count": 12,
   "id": "e648c84b",
   "metadata": {},
   "outputs": [
    {
     "name": "stdout",
     "output_type": "stream",
     "text": [
      "[19.69530064]\n",
      "-2.4714340917630424\n"
     ]
    }
   ],
   "source": [
    "rr3 = Ridge(alpha=100)\n",
    "rr3.fit(X,y)\n",
    "print(rr3.coef_)\n",
    "print(rr3.intercept_)"
   ]
  },
  {
   "cell_type": "markdown",
   "id": "3bf2b774",
   "metadata": {},
   "source": [
    "## Visualizing the best fit line for different values of alpha"
   ]
  },
  {
   "cell_type": "code",
   "execution_count": 13,
   "id": "2c55d6c4",
   "metadata": {},
   "outputs": [
    {
     "data": {
      "image/png": "[encoded data removed]",
      "text/plain": [
       "<Figure size 1152x288 with 1 Axes>"
      ]
     },
     "metadata": {
      "needs_background": "light"
     },
     "output_type": "display_data"
    }
   ],
   "source": [
    "plt.figure(figsize=(16,4))\n",
    "plt.plot(X,y,'b.')\n",
    "plt.plot(X,rr1.predict(X),label='alpha=0')\n",
    "plt.plot(X,rr2.predict(X),label='alpha=10')\n",
    "plt.plot(X,rr3.predict(X),label='alpha=100')\n",
    "plt.legend();"
   ]
  },
  {
   "cell_type": "markdown",
   "id": "8cc451a8",
   "metadata": {},
   "source": [
    "### Conclusion :\n",
    "* The coefficients and intercepts at each value of alpha for both sklearn Ridge class and the class defined by our own are same.\n",
    "* Hence, we have developed our own Ridge Regression Class using OLS."
   ]
  },
  {
   "cell_type": "code",
   "execution_count": null,
   "id": "41702447",
   "metadata": {},
   "outputs": [],
   "source": []
  }
 ],
 "metadata": {
  "kernelspec": {
   "display_name": "Python 3 (ipykernel)",
   "language": "python",
   "name": "python3"
  },
  "language_info": {
   "codemirror_mode": {
    "name": "ipython",
    "version": 3
   },
   "file_extension": ".py",
   "mimetype": "text/x-python",
   "name": "python",
   "nbconvert_exporter": "python",
   "pygments_lexer": "ipython3",
   "version": "3.9.12"
  }
 },
 "nbformat": 4,
 "nbformat_minor": 5
}
