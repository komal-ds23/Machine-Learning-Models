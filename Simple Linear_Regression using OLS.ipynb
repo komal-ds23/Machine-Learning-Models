{
 "cells": [
  {
   "cell_type": "markdown",
   "id": "8fac3755",
   "metadata": {},
   "source": [
    "# Linear Regression Using OLS(Ordinary Least Square)"
   ]
  },
  {
   "cell_type": "markdown",
   "id": "524c4ca1",
   "metadata": {},
   "source": [
    "## Importing the necessary Libraries"
   ]
  },
  {
   "cell_type": "code",
   "execution_count": 1,
   "id": "7e343ecb",
   "metadata": {},
   "outputs": [],
   "source": [
    "import numpy as np\n",
    "import pandas as pd\n",
    "import matplotlib.pyplot as plt\n",
    "from sklearn.datasets import make_regression\n",
    "from sklearn.metrics import *"
   ]
  },
  {
   "cell_type": "markdown",
   "id": "bce4979c",
   "metadata": {},
   "source": [
    "__Generating the data using the class make_regression__"
   ]
  },
  {
   "cell_type": "code",
   "execution_count": 2,
   "id": "f750e3e9",
   "metadata": {},
   "outputs": [],
   "source": [
    "X, y = make_regression(n_samples = 100, n_features = 1, n_informative = 1, n_targets = 1,noise= 10,random_state = 100)"
   ]
  },
  {
   "cell_type": "code",
   "execution_count": 3,
   "id": "3982e04c",
   "metadata": {},
   "outputs": [
    {
     "data": {
      "image/png": "[encoded data removed]",
      "text/plain": [
       "<Figure size 432x288 with 1 Axes>"
      ]
     },
     "metadata": {
      "needs_background": "light"
     },
     "output_type": "display_data"
    }
   ],
   "source": [
    "plt.scatter(X, y);"
   ]
  },
  {
   "cell_type": "markdown",
   "id": "1bdca9d5",
   "metadata": {},
   "source": [
    "__Perform train test split__"
   ]
  },
  {
   "cell_type": "code",
   "execution_count": 4,
   "id": "b2710ddb",
   "metadata": {},
   "outputs": [],
   "source": [
    "from sklearn.model_selection import train_test_split\n",
    "\n",
    "X_train, X_test, y_train, y_test = train_test_split(X, y, test_size= 0.2, random_state= 100)"
   ]
  },
  {
   "cell_type": "markdown",
   "id": "7a024598",
   "metadata": {},
   "source": [
    "__Making our own Linear Regression Class__"
   ]
  },
  {
   "cell_type": "code",
   "execution_count": 13,
   "id": "54d70183",
   "metadata": {},
   "outputs": [],
   "source": [
    "class LR_OLS:\n",
    "    \n",
    "    def __init__(self):\n",
    "        self.m = None\n",
    "        self.b = None\n",
    "        \n",
    "    def fit(self,X_train,y_train):\n",
    "        \n",
    "        num = 0\n",
    "        den = 0\n",
    "        \n",
    "        for i in range(X_train.shape[0]):\n",
    "            \n",
    "            num = num + ((X_train[i] - X_train.mean())*(y_train[i] - y_train.mean()))\n",
    "            den = den + ((X_train[i] - X_train.mean())*(X_train[i] - X_train.mean()))\n",
    "        \n",
    "        self.m = num/den\n",
    "        self.b = y_train.mean() - (self.m * X_train.mean())\n",
    "        print(self.m)\n",
    "        print(self.b)       \n",
    "    \n",
    "    def predict(self,X_test):\n",
    "        \n",
    "        \n",
    "        \n",
    "        return self.m * X_test + self.b"
   ]
  },
  {
   "cell_type": "code",
   "execution_count": 14,
   "id": "0db20cac",
   "metadata": {},
   "outputs": [],
   "source": [
    "LR = LR_OLS()"
   ]
  },
  {
   "cell_type": "code",
   "execution_count": 15,
   "id": "6a27d2cb",
   "metadata": {},
   "outputs": [
    {
     "name": "stdout",
     "output_type": "stream",
     "text": [
      "[41.54859677]\n",
      "[0.66171134]\n"
     ]
    }
   ],
   "source": [
    "LR.fit(X_train, y_train)"
   ]
  },
  {
   "cell_type": "code",
   "execution_count": 16,
   "id": "b85f8a6b",
   "metadata": {},
   "outputs": [],
   "source": [
    "y_pred_train = LR.predict(X_train)\n",
    "y_pred_test = LR.predict(X_test)"
   ]
  },
  {
   "cell_type": "code",
   "execution_count": 17,
   "id": "804e9f9d",
   "metadata": {},
   "outputs": [
    {
     "name": "stdout",
     "output_type": "stream",
     "text": [
      " The r2_score for train using gradient descent class : 0.9407182357987658\n",
      " The r2_score for test using gradient descent class : 0.8498819590329354\n"
     ]
    }
   ],
   "source": [
    "# calculate r2score\n",
    "\n",
    "print(\" The r2_score for train using gradient descent class :\", r2_score(y_train, y_pred_train))\n",
    "print(\" The r2_score for test using gradient descent class :\", r2_score(y_test, y_pred_test))"
   ]
  },
  {
   "cell_type": "code",
   "execution_count": null,
   "id": "fb1ecf56",
   "metadata": {},
   "outputs": [],
   "source": []
  },
  {
   "cell_type": "markdown",
   "id": "0fb17b55",
   "metadata": {},
   "source": [
    "### Check with sklearn LinearRegression class:"
   ]
  },
  {
   "cell_type": "code",
   "execution_count": 18,
   "id": "5c95a301",
   "metadata": {},
   "outputs": [],
   "source": [
    "from sklearn.linear_model import LinearRegression"
   ]
  },
  {
   "cell_type": "code",
   "execution_count": 19,
   "id": "8a9fcfca",
   "metadata": {},
   "outputs": [
    {
     "data": {
      "text/plain": [
       "LinearRegression()"
      ]
     },
     "execution_count": 19,
     "metadata": {},
     "output_type": "execute_result"
    }
   ],
   "source": [
    "LR_1 = LinearRegression()\n",
    "\n",
    "LR_1.fit(X_train, y_train)"
   ]
  },
  {
   "cell_type": "code",
   "execution_count": 20,
   "id": "e6b5b231",
   "metadata": {},
   "outputs": [],
   "source": [
    "y_lr_train = LR_1.predict(X_train)\n",
    "y_lr_test = LR_1.predict(X_test)"
   ]
  },
  {
   "cell_type": "code",
   "execution_count": 21,
   "id": "bf03bf9b",
   "metadata": {},
   "outputs": [
    {
     "name": "stdout",
     "output_type": "stream",
     "text": [
      " The r2_score for train using sklearn LR class : 0.9407182357987658\n",
      " The r2_score for test using sklearn LR class : 0.8498819590329352\n"
     ]
    }
   ],
   "source": [
    "# calculate r2score\n",
    "\n",
    "print(\" The r2_score for train using sklearn LR class :\", r2_score(y_train, y_lr_train))\n",
    "print(\" The r2_score for test using sklearn LR class :\", r2_score(y_test, y_lr_test))"
   ]
  },
  {
   "cell_type": "code",
   "execution_count": 22,
   "id": "52d55883",
   "metadata": {},
   "outputs": [
    {
     "name": "stdout",
     "output_type": "stream",
     "text": [
      "The coeffients are :  [41.54859677]\n",
      "The intercepts are :  0.6617113413547226\n"
     ]
    }
   ],
   "source": [
    "print(\"The coeffients are : \", LR_1.coef_)\n",
    "print(\"The intercepts are : \", LR_1.intercept_)"
   ]
  },
  {
   "cell_type": "markdown",
   "id": "09aa447a",
   "metadata": {},
   "source": [
    "## Visualizing the Best Fit Line"
   ]
  },
  {
   "cell_type": "code",
   "execution_count": 23,
   "id": "02a1c146",
   "metadata": {},
   "outputs": [
    {
     "data": {
      "image/png": "[encoded data removed]",
      "text/plain": [
       "<Figure size 576x288 with 1 Axes>"
      ]
     },
     "metadata": {
      "needs_background": "light"
     },
     "output_type": "display_data"
    }
   ],
   "source": [
    "plt.figure(figsize=(8,4))\n",
    "plt.scatter(X, y)\n",
    "plt.plot(X_train,LR.predict(X_train),color='red')\n",
    "plt.title(\"Best fit line for simple linear regression\",  fontweight = \"bold\", fontsize =14)\n",
    "plt.xlabel('Feature', fontweight = \"bold\", fontsize =12)\n",
    "plt.ylabel('Target', fontweight = \"bold\", fontsize =12);"
   ]
  },
  {
   "cell_type": "markdown",
   "id": "f6685327",
   "metadata": {},
   "source": [
    "__The red line in the graph represents the best fit line.__"
   ]
  },
  {
   "cell_type": "markdown",
   "id": "9424b4b5",
   "metadata": {},
   "source": [
    "### Conclusion :\n",
    "* The coefficients and intercepts for both sklearn Linear Regression class and the class defined by our own are same.\n",
    "* Also, r2scores for both the classes are also equal.\n",
    "* Hence, we have developed our own Linear Regression Class using OLS."
   ]
  },
  {
   "cell_type": "code",
   "execution_count": null,
   "id": "24a6c94d",
   "metadata": {},
   "outputs": [],
   "source": []
  }
 ],
 "metadata": {
  "kernelspec": {
   "display_name": "Python 3 (ipykernel)",
   "language": "python",
   "name": "python3"
  },
  "language_info": {
   "codemirror_mode": {
    "name": "ipython",
    "version": 3
   },
   "file_extension": ".py",
   "mimetype": "text/x-python",
   "name": "python",
   "nbconvert_exporter": "python",
   "pygments_lexer": "ipython3",
   "version": "3.9.12"
  }
 },
 "nbformat": 4,
 "nbformat_minor": 5
}
